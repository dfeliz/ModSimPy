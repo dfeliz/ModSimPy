{
 "cells": [
  {
   "cell_type": "markdown",
   "metadata": {},
   "source": [
    "# Coronavirus Simulation"
   ]
  },
  {
   "cell_type": "markdown",
   "metadata": {},
   "source": [
    "## Initialization"
   ]
  },
  {
   "cell_type": "markdown",
   "metadata": {},
   "source": [
    "Import the required libraries."
   ]
  },
  {
   "cell_type": "code",
   "execution_count": 1,
   "metadata": {},
   "outputs": [],
   "source": [
    "%matplotlib inline\n",
    "%config InteractiveShell.ast_node_interactivity='last_expr_or_assign'\n",
    "from modsim import *\n",
    "import random\n",
    "import statistics\n",
    "import matplotlib.pyplot as plt\n",
    "import matplotlib.lines as mlines\n",
    "\n",
    "np.random.seed(7)"
   ]
  },
  {
   "cell_type": "markdown",
   "metadata": {},
   "source": [
    "Initialize the coronavirus state object"
   ]
  },
  {
   "cell_type": "code",
   "execution_count": 30,
   "metadata": {},
   "outputs": [
    {
     "data": {
      "text/html": [
       "<div>\n",
       "<style scoped>\n",
       "    .dataframe tbody tr th:only-of-type {\n",
       "        vertical-align: middle;\n",
       "    }\n",
       "\n",
       "    .dataframe tbody tr th {\n",
       "        vertical-align: top;\n",
       "    }\n",
       "\n",
       "    .dataframe thead th {\n",
       "        text-align: right;\n",
       "    }\n",
       "</style>\n",
       "<table border=\"1\" class=\"dataframe\">\n",
       "  <thead>\n",
       "    <tr style=\"text-align: right;\">\n",
       "      <th></th>\n",
       "      <th>values</th>\n",
       "    </tr>\n",
       "  </thead>\n",
       "  <tbody>\n",
       "    <tr>\n",
       "      <th>dead</th>\n",
       "      <td>0</td>\n",
       "    </tr>\n",
       "    <tr>\n",
       "      <th>recovered</th>\n",
       "      <td>0</td>\n",
       "    </tr>\n",
       "    <tr>\n",
       "      <th>infected</th>\n",
       "      <td>1</td>\n",
       "    </tr>\n",
       "    <tr>\n",
       "      <th>not_infected</th>\n",
       "      <td>0</td>\n",
       "    </tr>\n",
       "    <tr>\n",
       "      <th>total</th>\n",
       "      <td>0</td>\n",
       "    </tr>\n",
       "  </tbody>\n",
       "</table>\n",
       "</div>"
      ],
      "text/plain": [
       "dead            0\n",
       "recovered       0\n",
       "infected        1\n",
       "not_infected    0\n",
       "total           0\n",
       "dtype: int64"
      ]
     },
     "execution_count": 30,
     "metadata": {},
     "output_type": "execute_result"
    }
   ],
   "source": [
    "coronavirus = State(dead=0, recovered=0, infected=1, not_infected=0, total=0)"
   ]
  },
  {
   "cell_type": "markdown",
   "metadata": {},
   "source": [
    "Initialize the TimeSeries objects"
   ]
  },
  {
   "cell_type": "code",
   "execution_count": 31,
   "metadata": {},
   "outputs": [
    {
     "data": {
      "text/html": [
       "<div>\n",
       "<style scoped>\n",
       "    .dataframe tbody tr th:only-of-type {\n",
       "        vertical-align: middle;\n",
       "    }\n",
       "\n",
       "    .dataframe tbody tr th {\n",
       "        vertical-align: top;\n",
       "    }\n",
       "\n",
       "    .dataframe thead th {\n",
       "        text-align: right;\n",
       "    }\n",
       "</style>\n",
       "<table border=\"1\" class=\"dataframe\">\n",
       "  <thead>\n",
       "    <tr style=\"text-align: right;\">\n",
       "      <th></th>\n",
       "      <th>values</th>\n",
       "    </tr>\n",
       "  </thead>\n",
       "  <tbody>\n",
       "  </tbody>\n",
       "</table>\n",
       "</div>"
      ],
      "text/plain": [
       "TimeSeries([], dtype: float64)"
      ]
     },
     "execution_count": 31,
     "metadata": {},
     "output_type": "execute_result"
    }
   ],
   "source": [
    "not_infected = TimeSeries()\n",
    "infected = TimeSeries()\n",
    "dead = TimeSeries()\n",
    "recovered = TimeSeries()"
   ]
  },
  {
   "cell_type": "markdown",
   "metadata": {},
   "source": [
    "## Declaration"
   ]
  },
  {
   "cell_type": "markdown",
   "metadata": {},
   "source": [
    "Declare the infect function."
   ]
  },
  {
   "cell_type": "code",
   "execution_count": 14,
   "metadata": {},
   "outputs": [],
   "source": [
    "def infect(p):\n",
    "    if coronavirus.total > 0:\n",
    "        if flip(p):\n",
    "            coronavirus.infected += 1\n",
    "            coronavirus.not_infected -= 1\n",
    "        coronavirus.total -= 1"
   ]
  },
  {
   "cell_type": "markdown",
   "metadata": {},
   "source": [
    "Declare the infect_step function."
   ]
  },
  {
   "cell_type": "code",
   "execution_count": 15,
   "metadata": {},
   "outputs": [],
   "source": [
    "def infected_step():\n",
    "    if flip(0.036):\n",
    "        coronavirus.dead += 1\n",
    "        coronavirus.infected -= 1\n",
    "    else:\n",
    "        if flip(0.5):\n",
    "            coronavirus.recovered += 1\n",
    "            coronavirus.not_infected += 1\n",
    "            coronavirus.infected -= 1"
   ]
  },
  {
   "cell_type": "markdown",
   "metadata": {},
   "source": [
    "Declare the day_pass function."
   ]
  },
  {
   "cell_type": "code",
   "execution_count": 20,
   "metadata": {},
   "outputs": [],
   "source": [
    "def day_pass(x, p, day):\n",
    "    for i in range(x):\n",
    "        infect(p)\n",
    "    if (day >= 18):\n",
    "        if coronavirus.infected > 1:\n",
    "            rangeNumber = int(coronavirus.infected * random.random())\n",
    "            for i in range(rangeNumber):\n",
    "                infected_step()"
   ]
  },
  {
   "cell_type": "markdown",
   "metadata": {},
   "source": [
    "Declare the draw function."
   ]
  },
  {
   "cell_type": "code",
   "execution_count": 17,
   "metadata": {},
   "outputs": [],
   "source": [
    "def draw():\n",
    "    fig = plt.figure(figsize=(30,10))\n",
    "    \n",
    "    plt.subplot2grid((2,3),(0,0))\n",
    "    orange_line = mlines.Line2D([], [], color='orange', label='Infected')\n",
    "    blue_line = mlines.Line2D([], [], color='blue', label='Not infected')\n",
    "    red_line = mlines.Line2D([], [], color='red', label='Dead')\n",
    "    green_line = mlines.Line2D([], [], color='green', label='Recovered')\n",
    "    plt.legend(handles=[orange_line, blue_line, red_line, green_line], loc='upper right')\n",
    "    plt.plot(infected, color='orange')\n",
    "    plt.plot(not_infected, color='blue')\n",
    "    plt.plot(dead, color='red')\n",
    "    plt.plot(recovered, color='green')\n",
    "    plt.title('Coronavirus status per day')\n",
    "    plt.xlabel('Time step (day)') \n",
    "    plt.ylabel('Number of persons')\n",
    "    savefig('figs/chap02-fig01.pdf')\n",
    "    \n",
    "    \n",
    "    plt.subplot2grid((2,3),(0,1))\n",
    "    orange_line = mlines.Line2D([], [], color='orange', label='Infected')\n",
    "    blue_line = mlines.Line2D([], [], color='blue', label='Not infected')\n",
    "    red_line = mlines.Line2D([], [], color='red', label='Dead')\n",
    "    green_line = mlines.Line2D([], [], color='green', label='Recovered')\n",
    "    plt.legend(handles=[orange_line, blue_line, red_line, green_line], loc='upper center')\n",
    "    plt.scatter(infected, dead, color='orange')\n",
    "    plt.scatter(not_infected, recovered, color='blue')\n",
    "    plt.scatter(dead, recovered, color='red')\n",
    "    plt.scatter(recovered, infected, color='green')\n",
    "    plt.title('Population Data Dispersion')\n",
    "    plt.xlabel('Persons')\n",
    "    plt.ylabel('Persons')\n",
    "    savefig('figs/chap02-fig02.pdf')"
   ]
  },
  {
   "cell_type": "markdown",
   "metadata": {},
   "source": [
    "Declare the run simulation function."
   ]
  },
  {
   "cell_type": "code",
   "execution_count": 23,
   "metadata": {},
   "outputs": [],
   "source": [
    "def run_simulation(population, infect_prob, relations_per_day):\n",
    "    coronavirus.total = population\n",
    "    infectable_persons = relations_per_day\n",
    "    coronavirus.not_infected = population\n",
    "    \n",
    "    pStandardDev = statistics.pstdev([population, infect_prob, relations_per_day])\n",
    "    imprime = 'Desviación: ' + repr(pStandardDev)\n",
    "    print(imprime)\n",
    "\n",
    "    day = 1\n",
    "    while True:\n",
    "        day_pass(infectable_persons, infect_prob, day)\n",
    "        infected[day] = coronavirus.infected\n",
    "        dead[day] = coronavirus.dead\n",
    "        recovered[day] = coronavirus.recovered\n",
    "        not_infected[day] = coronavirus.not_infected\n",
    "        \n",
    "        day += 1\n",
    "        print('day: ' + str(day))\n",
    "        print('infected: ' + str(coronavirus.infected))\n",
    "        print('dead: ' + str(coronavirus.dead))\n",
    "        \n",
    "        infectable_persons = relations_per_day * coronavirus.infected\n",
    "        if (coronavirus.infected <= 1):\n",
    "            break\n",
    "    draw()"
   ]
  },
  {
   "cell_type": "markdown",
   "metadata": {},
   "source": [
    "# Run simulation"
   ]
  },
  {
   "cell_type": "markdown",
   "metadata": {},
   "source": [
    "Run simulation with run_simulation(population, prob, relations). Parameters:\n",
    "- Population: Quantity of people that can be reached\n",
    "- Prob: probability of infection\n",
    "- Relations: Quantity of people that a person meets per day"
   ]
  },
  {
   "cell_type": "code",
   "execution_count": 32,
   "metadata": {
    "scrolled": false
   },
   "outputs": [
    {
     "name": "stdout",
     "output_type": "stream",
     "text": [
      "Desviación: 4711.530624274051\n",
      "day: 2\n",
      "infected: 9\n",
      "dead: 0\n",
      "day: 3\n",
      "infected: 72\n",
      "dead: 0\n",
      "day: 4\n",
      "infected: 551\n",
      "dead: 0\n",
      "day: 5\n",
      "infected: 4269\n",
      "dead: 0\n",
      "day: 6\n",
      "infected: 6768\n",
      "dead: 0\n",
      "day: 7\n",
      "infected: 6768\n",
      "dead: 0\n",
      "day: 8\n",
      "infected: 6768\n",
      "dead: 0\n",
      "day: 9\n",
      "infected: 6768\n",
      "dead: 0\n",
      "day: 10\n",
      "infected: 6768\n",
      "dead: 0\n",
      "day: 11\n",
      "infected: 6768\n",
      "dead: 0\n",
      "day: 12\n",
      "infected: 6768\n",
      "dead: 0\n",
      "day: 13\n",
      "infected: 6768\n",
      "dead: 0\n",
      "day: 14\n",
      "infected: 6768\n",
      "dead: 0\n",
      "day: 15\n",
      "infected: 6768\n",
      "dead: 0\n",
      "day: 16\n",
      "infected: 6768\n",
      "dead: 0\n",
      "day: 17\n",
      "infected: 6768\n",
      "dead: 0\n",
      "day: 18\n",
      "infected: 6768\n",
      "dead: 0\n",
      "day: 19\n",
      "infected: 3592\n",
      "dead: 187\n",
      "day: 20\n",
      "infected: 1914\n",
      "dead: 300\n",
      "day: 21\n",
      "infected: 1786\n",
      "dead: 310\n",
      "day: 22\n",
      "infected: 1455\n",
      "dead: 333\n",
      "day: 23\n",
      "infected: 930\n",
      "dead: 372\n",
      "day: 24\n",
      "infected: 879\n",
      "dead: 375\n",
      "day: 25\n",
      "infected: 855\n",
      "dead: 375\n",
      "day: 26\n",
      "infected: 627\n",
      "dead: 395\n",
      "day: 27\n",
      "infected: 362\n",
      "dead: 412\n",
      "day: 28\n",
      "infected: 298\n",
      "dead: 423\n",
      "day: 29\n",
      "infected: 235\n",
      "dead: 424\n",
      "day: 30\n",
      "infected: 128\n",
      "dead: 428\n",
      "day: 31\n",
      "infected: 83\n",
      "dead: 430\n",
      "day: 32\n",
      "infected: 72\n",
      "dead: 430\n",
      "day: 33\n",
      "infected: 68\n",
      "dead: 430\n",
      "day: 34\n",
      "infected: 38\n",
      "dead: 433\n",
      "day: 35\n",
      "infected: 35\n",
      "dead: 433\n",
      "day: 36\n",
      "infected: 22\n",
      "dead: 434\n",
      "day: 37\n",
      "infected: 17\n",
      "dead: 435\n",
      "day: 38\n",
      "infected: 17\n",
      "dead: 435\n",
      "day: 39\n",
      "infected: 15\n",
      "dead: 435\n",
      "day: 40\n",
      "infected: 8\n",
      "dead: 435\n",
      "day: 41\n",
      "infected: 4\n",
      "dead: 435\n",
      "day: 42\n",
      "infected: 3\n",
      "dead: 435\n",
      "day: 43\n",
      "infected: 3\n",
      "dead: 435\n",
      "day: 44\n",
      "infected: 2\n",
      "dead: 435\n",
      "day: 45\n",
      "infected: 2\n",
      "dead: 435\n",
      "day: 46\n",
      "infected: 2\n",
      "dead: 435\n",
      "day: 47\n",
      "infected: 2\n",
      "dead: 435\n",
      "day: 48\n",
      "infected: 2\n",
      "dead: 435\n",
      "day: 49\n",
      "infected: 1\n",
      "dead: 435\n",
      "Saving figure to file figs/chap02-fig01.pdf\n",
      "Saving figure to file figs/chap02-fig02.pdf\n"
     ]
    },
    {
     "data": {
      "image/png": "[encoded data removed]",
      "text/plain": [
       "<Figure size 2160x720 with 2 Axes>"
      ]
     },
     "metadata": {},
     "output_type": "display_data"
    }
   ],
   "source": [
    "run_simulation(10000, 0.675, 10)"
   ]
  },
  {
   "cell_type": "code",
   "execution_count": null,
   "metadata": {},
   "outputs": [],
   "source": []
  }
 ],
 "metadata": {
  "kernelspec": {
   "display_name": "Python 3",
   "language": "python",
   "name": "python3"
  },
  "language_info": {
   "codemirror_mode": {
    "name": "ipython",
    "version": 3
   },
   "file_extension": ".py",
   "mimetype": "text/x-python",
   "name": "python",
   "nbconvert_exporter": "python",
   "pygments_lexer": "ipython3",
   "version": "3.7.6"
  }
 },
 "nbformat": 4,
 "nbformat_minor": 2
}
