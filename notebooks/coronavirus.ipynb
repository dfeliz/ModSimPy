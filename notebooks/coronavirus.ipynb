{
 "cells": [
  {
   "cell_type": "markdown",
   "metadata": {},
   "source": [
    "# Coronavirus Simulation"
   ]
  },
  {
   "cell_type": "code",
   "execution_count": null,
   "metadata": {},
   "outputs": [],
   "source": [
    "%matplotlib inline\n",
    "%config InteractiveShell.ast_node_interactivity='last_expr_or_assign'\n",
    "from modsim import *\n",
    "np.random.seed(7)\n",
    "\n",
    "def run_simulation(population, infect_prob, relations_per_day):\n",
    "    infectable_persons = relations_per_day\n",
    "    coronavirus = State(dead=0, recovered=0, infected=1, not_infected=0, total=population)\n",
    "    coronavirus.not_infected = population\n",
    "    \n",
    "    not_infected = TimeSeries()\n",
    "    infected = TimeSeries()\n",
    "    dead = TimeSeries()\n",
    "    recovered = TimeSeries()\n",
    "    \n",
    "    def infect(p):\n",
    "        if coronavirus.total > 0:\n",
    "            if flip(p):\n",
    "                coronavirus.infected += 1\n",
    "                coronavirus.not_infected -= 1\n",
    "            coronavirus.total -= 1\n",
    "        \n",
    "    def infected_step():\n",
    "        if coronavirus.infected > 0:\n",
    "            if flip(0.095):\n",
    "                coronavirus.dead += 1\n",
    "                coronavirus.infected -= 1\n",
    "            else:\n",
    "                if flip(0.6):\n",
    "                    coronavirus.recovered += 1\n",
    "                    coronavirus.not_infected += 1\n",
    "                    coronavirus.infected -= 1\n",
    "\n",
    "    def day_pass(x, p, day):\n",
    "        for i in range(x):\n",
    "            infect(p)\n",
    "            if (day >= 8):\n",
    "                infected_step()\n",
    "\n",
    "    day = 1\n",
    "    while True:\n",
    "        day_pass(infectable_persons, infect_prob, day)\n",
    "        infected[day] = coronavirus.infected\n",
    "        dead[day] = coronavirus.dead\n",
    "        recovered[day] = coronavirus.recovered\n",
    "        not_infected[day] = coronavirus.not_infected\n",
    "        \n",
    "        day += 1\n",
    "        infectable_persons = relations_per_day * coronavirus.infected\n",
    "        if (coronavirus.infected <= 0):\n",
    "            break\n",
    "            \n",
    "    plot(infected, color='orange', label='Infected')\n",
    "    plot(not_infected, color='blue', label='Not infected')\n",
    "    plot(dead, color='red', label='Dead')\n",
    "    plot(recovered, color='green', label='Recovered')\n",
    "\n",
    "    decorate(title='Coronavirus status per day',\n",
    "             xlabel='Time step (day)', \n",
    "             ylabel='Number of persons')\n",
    "\n",
    "    savefig('figs/chap02-fig01.pdf')"
   ]
  },
  {
   "cell_type": "markdown",
   "metadata": {},
   "source": [
    "# Run simulation"
   ]
  },
  {
   "cell_type": "markdown",
   "metadata": {},
   "source": [
    "Run simulation with run_simulation(population, prob, relations). Parameters:\n",
    "- Population: Quantity of people that can be reached\n",
    "- Prob: probability of infection\n",
    "- Relations: Quantity of people that a person meets per day"
   ]
  },
  {
   "cell_type": "code",
   "execution_count": null,
   "metadata": {
    "scrolled": true
   },
   "outputs": [],
   "source": [
    "run_simulation(10000, 0.635, 10)"
   ]
  }
 ],
 "metadata": {
  "kernelspec": {
   "display_name": "Python 3",
   "language": "python",
   "name": "python3"
  },
  "language_info": {
   "codemirror_mode": {
    "name": "ipython",
    "version": 3
   },
   "file_extension": ".py",
   "mimetype": "text/x-python",
   "name": "python",
   "nbconvert_exporter": "python",
   "pygments_lexer": "ipython3",
   "version": "3.7.6"
  }
 },
 "nbformat": 4,
 "nbformat_minor": 2
}
